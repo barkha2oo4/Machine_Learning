{
  "cells": [
    {
      "cell_type": "code",
      "source": [
        "import cv2\n",
        "import matplotlib.pyplot as plt\n",
        "\n",
        "# Load and preprocess the image\n",
        "image = cv2.imread('your_image.jpg')  # Replace with your image path\n",
        "gray_image = cv2.cvtColor(image, cv2.COLOR_BGR2GRAY)\n",
        "\n",
        "# Initialize ORB and detect keypoints\n",
        "keypoints = cv2.ORB_create().detect(gray_image, None)\n",
        "\n",
        "# Draw keypoints on the image\n",
        "image_with_keypoints = cv2.drawKeypoints(image, keypoints, None, color=(0, 255, 0))\n",
        "\n",
        "# Visualize the keypoints\n",
        "plt.imshow(cv2.cvtColor(image_with_keypoints, cv2.COLOR_BGR2RGB))\n",
        "plt.title('Key Points Detected')\n",
        "plt.axis('off')\n",
        "plt.show()"
      ],
      "metadata": {
        "colab": {
          "base_uri": "https://localhost:8080/",
          "height": 211
        },
        "id": "EWpbIcHSaP9k",
        "outputId": "c3c1a39a-7ff7-4069-b86f-396d8164d9b6"
      },
      "execution_count": null,
      "outputs": [
        {
          "output_type": "error",
          "ename": "error",
          "evalue": "OpenCV(4.10.0) /io/opencv/modules/imgproc/src/color.cpp:196: error: (-215:Assertion failed) !_src.empty() in function 'cvtColor'\n",
          "traceback": [
            "\u001b[0;31m---------------------------------------------------------------------------\u001b[0m",
            "\u001b[0;31merror\u001b[0m                                     Traceback (most recent call last)",
            "\u001b[0;32m<ipython-input-1-1c98ac1d1e2e>\u001b[0m in \u001b[0;36m<cell line: 6>\u001b[0;34m()\u001b[0m\n\u001b[1;32m      4\u001b[0m \u001b[0;31m# Load and preprocess the image\u001b[0m\u001b[0;34m\u001b[0m\u001b[0;34m\u001b[0m\u001b[0m\n\u001b[1;32m      5\u001b[0m \u001b[0mimage\u001b[0m \u001b[0;34m=\u001b[0m \u001b[0mcv2\u001b[0m\u001b[0;34m.\u001b[0m\u001b[0mimread\u001b[0m\u001b[0;34m(\u001b[0m\u001b[0;34m'your_image.jpg'\u001b[0m\u001b[0;34m)\u001b[0m  \u001b[0;31m# Replace with your image path\u001b[0m\u001b[0;34m\u001b[0m\u001b[0;34m\u001b[0m\u001b[0m\n\u001b[0;32m----> 6\u001b[0;31m \u001b[0mgray_image\u001b[0m \u001b[0;34m=\u001b[0m \u001b[0mcv2\u001b[0m\u001b[0;34m.\u001b[0m\u001b[0mcvtColor\u001b[0m\u001b[0;34m(\u001b[0m\u001b[0mimage\u001b[0m\u001b[0;34m,\u001b[0m \u001b[0mcv2\u001b[0m\u001b[0;34m.\u001b[0m\u001b[0mCOLOR_BGR2GRAY\u001b[0m\u001b[0;34m)\u001b[0m\u001b[0;34m\u001b[0m\u001b[0;34m\u001b[0m\u001b[0m\n\u001b[0m\u001b[1;32m      7\u001b[0m \u001b[0;34m\u001b[0m\u001b[0m\n\u001b[1;32m      8\u001b[0m \u001b[0;31m# Initialize ORB and detect keypoints\u001b[0m\u001b[0;34m\u001b[0m\u001b[0;34m\u001b[0m\u001b[0m\n",
            "\u001b[0;31merror\u001b[0m: OpenCV(4.10.0) /io/opencv/modules/imgproc/src/color.cpp:196: error: (-215:Assertion failed) !_src.empty() in function 'cvtColor'\n"
          ]
        }
      ]
    },
    {
      "cell_type": "markdown",
      "metadata": {
        "id": "1uK7QqSJZe3_"
      },
      "source": [
        "# **BodyType Analysis**"
      ]
    },
    {
      "cell_type": "code",
      "execution_count": null,
      "metadata": {
        "colab": {
          "base_uri": "https://localhost:8080/"
        },
        "id": "e6SlbU_QdnPZ",
        "outputId": "be2e1da2-2d4f-4e3d-b626-7f7e5256b6ef"
      },
      "outputs": [
        {
          "name": "stdout",
          "output_type": "stream",
          "text": [
            "Requirement already satisfied: opencv-python in /usr/local/lib/python3.10/dist-packages (4.10.0.84)\n",
            "Requirement already satisfied: mediapipe in /usr/local/lib/python3.10/dist-packages (0.10.18)\n",
            "Requirement already satisfied: numpy>=1.21.2 in /usr/local/lib/python3.10/dist-packages (from opencv-python) (1.26.4)\n",
            "Requirement already satisfied: absl-py in /usr/local/lib/python3.10/dist-packages (from mediapipe) (1.4.0)\n",
            "Requirement already satisfied: attrs>=19.1.0 in /usr/local/lib/python3.10/dist-packages (from mediapipe) (24.2.0)\n",
            "Requirement already satisfied: flatbuffers>=2.0 in /usr/local/lib/python3.10/dist-packages (from mediapipe) (24.3.25)\n",
            "Requirement already satisfied: jax in /usr/local/lib/python3.10/dist-packages (from mediapipe) (0.4.33)\n",
            "Requirement already satisfied: jaxlib in /usr/local/lib/python3.10/dist-packages (from mediapipe) (0.4.33)\n",
            "Requirement already satisfied: matplotlib in /usr/local/lib/python3.10/dist-packages (from mediapipe) (3.8.0)\n",
            "Requirement already satisfied: opencv-contrib-python in /usr/local/lib/python3.10/dist-packages (from mediapipe) (4.10.0.84)\n",
            "Requirement already satisfied: protobuf<5,>=4.25.3 in /usr/local/lib/python3.10/dist-packages (from mediapipe) (4.25.5)\n",
            "Requirement already satisfied: sounddevice>=0.4.4 in /usr/local/lib/python3.10/dist-packages (from mediapipe) (0.5.1)\n",
            "Requirement already satisfied: sentencepiece in /usr/local/lib/python3.10/dist-packages (from mediapipe) (0.2.0)\n",
            "Requirement already satisfied: CFFI>=1.0 in /usr/local/lib/python3.10/dist-packages (from sounddevice>=0.4.4->mediapipe) (1.17.1)\n",
            "Requirement already satisfied: ml-dtypes>=0.2.0 in /usr/local/lib/python3.10/dist-packages (from jax->mediapipe) (0.4.1)\n",
            "Requirement already satisfied: opt-einsum in /usr/local/lib/python3.10/dist-packages (from jax->mediapipe) (3.4.0)\n",
            "Requirement already satisfied: scipy>=1.10 in /usr/local/lib/python3.10/dist-packages (from jax->mediapipe) (1.13.1)\n",
            "Requirement already satisfied: contourpy>=1.0.1 in /usr/local/lib/python3.10/dist-packages (from matplotlib->mediapipe) (1.3.1)\n",
            "Requirement already satisfied: cycler>=0.10 in /usr/local/lib/python3.10/dist-packages (from matplotlib->mediapipe) (0.12.1)\n",
            "Requirement already satisfied: fonttools>=4.22.0 in /usr/local/lib/python3.10/dist-packages (from matplotlib->mediapipe) (4.55.0)\n",
            "Requirement already satisfied: kiwisolver>=1.0.1 in /usr/local/lib/python3.10/dist-packages (from matplotlib->mediapipe) (1.4.7)\n",
            "Requirement already satisfied: packaging>=20.0 in /usr/local/lib/python3.10/dist-packages (from matplotlib->mediapipe) (24.2)\n",
            "Requirement already satisfied: pillow>=6.2.0 in /usr/local/lib/python3.10/dist-packages (from matplotlib->mediapipe) (11.0.0)\n",
            "Requirement already satisfied: pyparsing>=2.3.1 in /usr/local/lib/python3.10/dist-packages (from matplotlib->mediapipe) (3.2.0)\n",
            "Requirement already satisfied: python-dateutil>=2.7 in /usr/local/lib/python3.10/dist-packages (from matplotlib->mediapipe) (2.8.2)\n",
            "Requirement already satisfied: pycparser in /usr/local/lib/python3.10/dist-packages (from CFFI>=1.0->sounddevice>=0.4.4->mediapipe) (2.22)\n",
            "Requirement already satisfied: six>=1.5 in /usr/local/lib/python3.10/dist-packages (from python-dateutil>=2.7->matplotlib->mediapipe) (1.16.0)\n"
          ]
        }
      ],
      "source": [
        "!pip install opencv-python mediapipe"
      ]
    },
    {
      "cell_type": "markdown",
      "metadata": {
        "id": "4-EGXYXmCKeP"
      },
      "source": [
        "**Kibbe  BodyType Approach**"
      ]
    },
    {
      "cell_type": "code",
      "execution_count": null,
      "metadata": {
        "id": "GB56P29FfWRI"
      },
      "outputs": [],
      "source": [
        "import cv2\n",
        "import mediapipe as mp\n",
        "import numpy as np\n",
        "from google.colab.patches import cv2_imshow\n"
      ]
    },
    {
      "cell_type": "code",
      "execution_count": null,
      "metadata": {
        "colab": {
          "base_uri": "https://localhost:8080/",
          "height": 73
        },
        "id": "vpT0uTXksYqR",
        "outputId": "dacd4031-433d-44ca-da54-6bb8f084ed0f"
      },
      "outputs": [
        {
          "output_type": "display_data",
          "data": {
            "text/plain": [
              "<IPython.core.display.HTML object>"
            ],
            "text/html": [
              "\n",
              "     <input type=\"file\" id=\"files-40d1a7bd-ccc2-4659-87c6-34d4d5f7a905\" name=\"files[]\" multiple disabled\n",
              "        style=\"border:none\" />\n",
              "     <output id=\"result-40d1a7bd-ccc2-4659-87c6-34d4d5f7a905\">\n",
              "      Upload widget is only available when the cell has been executed in the\n",
              "      current browser session. Please rerun this cell to enable.\n",
              "      </output>\n",
              "      <script>// Copyright 2017 Google LLC\n",
              "//\n",
              "// Licensed under the Apache License, Version 2.0 (the \"License\");\n",
              "// you may not use this file except in compliance with the License.\n",
              "// You may obtain a copy of the License at\n",
              "//\n",
              "//      http://www.apache.org/licenses/LICENSE-2.0\n",
              "//\n",
              "// Unless required by applicable law or agreed to in writing, software\n",
              "// distributed under the License is distributed on an \"AS IS\" BASIS,\n",
              "// WITHOUT WARRANTIES OR CONDITIONS OF ANY KIND, either express or implied.\n",
              "// See the License for the specific language governing permissions and\n",
              "// limitations under the License.\n",
              "\n",
              "/**\n",
              " * @fileoverview Helpers for google.colab Python module.\n",
              " */\n",
              "(function(scope) {\n",
              "function span(text, styleAttributes = {}) {\n",
              "  const element = document.createElement('span');\n",
              "  element.textContent = text;\n",
              "  for (const key of Object.keys(styleAttributes)) {\n",
              "    element.style[key] = styleAttributes[key];\n",
              "  }\n",
              "  return element;\n",
              "}\n",
              "\n",
              "// Max number of bytes which will be uploaded at a time.\n",
              "const MAX_PAYLOAD_SIZE = 100 * 1024;\n",
              "\n",
              "function _uploadFiles(inputId, outputId) {\n",
              "  const steps = uploadFilesStep(inputId, outputId);\n",
              "  const outputElement = document.getElementById(outputId);\n",
              "  // Cache steps on the outputElement to make it available for the next call\n",
              "  // to uploadFilesContinue from Python.\n",
              "  outputElement.steps = steps;\n",
              "\n",
              "  return _uploadFilesContinue(outputId);\n",
              "}\n",
              "\n",
              "// This is roughly an async generator (not supported in the browser yet),\n",
              "// where there are multiple asynchronous steps and the Python side is going\n",
              "// to poll for completion of each step.\n",
              "// This uses a Promise to block the python side on completion of each step,\n",
              "// then passes the result of the previous step as the input to the next step.\n",
              "function _uploadFilesContinue(outputId) {\n",
              "  const outputElement = document.getElementById(outputId);\n",
              "  const steps = outputElement.steps;\n",
              "\n",
              "  const next = steps.next(outputElement.lastPromiseValue);\n",
              "  return Promise.resolve(next.value.promise).then((value) => {\n",
              "    // Cache the last promise value to make it available to the next\n",
              "    // step of the generator.\n",
              "    outputElement.lastPromiseValue = value;\n",
              "    return next.value.response;\n",
              "  });\n",
              "}\n",
              "\n",
              "/**\n",
              " * Generator function which is called between each async step of the upload\n",
              " * process.\n",
              " * @param {string} inputId Element ID of the input file picker element.\n",
              " * @param {string} outputId Element ID of the output display.\n",
              " * @return {!Iterable<!Object>} Iterable of next steps.\n",
              " */\n",
              "function* uploadFilesStep(inputId, outputId) {\n",
              "  const inputElement = document.getElementById(inputId);\n",
              "  inputElement.disabled = false;\n",
              "\n",
              "  const outputElement = document.getElementById(outputId);\n",
              "  outputElement.innerHTML = '';\n",
              "\n",
              "  const pickedPromise = new Promise((resolve) => {\n",
              "    inputElement.addEventListener('change', (e) => {\n",
              "      resolve(e.target.files);\n",
              "    });\n",
              "  });\n",
              "\n",
              "  const cancel = document.createElement('button');\n",
              "  inputElement.parentElement.appendChild(cancel);\n",
              "  cancel.textContent = 'Cancel upload';\n",
              "  const cancelPromise = new Promise((resolve) => {\n",
              "    cancel.onclick = () => {\n",
              "      resolve(null);\n",
              "    };\n",
              "  });\n",
              "\n",
              "  // Wait for the user to pick the files.\n",
              "  const files = yield {\n",
              "    promise: Promise.race([pickedPromise, cancelPromise]),\n",
              "    response: {\n",
              "      action: 'starting',\n",
              "    }\n",
              "  };\n",
              "\n",
              "  cancel.remove();\n",
              "\n",
              "  // Disable the input element since further picks are not allowed.\n",
              "  inputElement.disabled = true;\n",
              "\n",
              "  if (!files) {\n",
              "    return {\n",
              "      response: {\n",
              "        action: 'complete',\n",
              "      }\n",
              "    };\n",
              "  }\n",
              "\n",
              "  for (const file of files) {\n",
              "    const li = document.createElement('li');\n",
              "    li.append(span(file.name, {fontWeight: 'bold'}));\n",
              "    li.append(span(\n",
              "        `(${file.type || 'n/a'}) - ${file.size} bytes, ` +\n",
              "        `last modified: ${\n",
              "            file.lastModifiedDate ? file.lastModifiedDate.toLocaleDateString() :\n",
              "                                    'n/a'} - `));\n",
              "    const percent = span('0% done');\n",
              "    li.appendChild(percent);\n",
              "\n",
              "    outputElement.appendChild(li);\n",
              "\n",
              "    const fileDataPromise = new Promise((resolve) => {\n",
              "      const reader = new FileReader();\n",
              "      reader.onload = (e) => {\n",
              "        resolve(e.target.result);\n",
              "      };\n",
              "      reader.readAsArrayBuffer(file);\n",
              "    });\n",
              "    // Wait for the data to be ready.\n",
              "    let fileData = yield {\n",
              "      promise: fileDataPromise,\n",
              "      response: {\n",
              "        action: 'continue',\n",
              "      }\n",
              "    };\n",
              "\n",
              "    // Use a chunked sending to avoid message size limits. See b/62115660.\n",
              "    let position = 0;\n",
              "    do {\n",
              "      const length = Math.min(fileData.byteLength - position, MAX_PAYLOAD_SIZE);\n",
              "      const chunk = new Uint8Array(fileData, position, length);\n",
              "      position += length;\n",
              "\n",
              "      const base64 = btoa(String.fromCharCode.apply(null, chunk));\n",
              "      yield {\n",
              "        response: {\n",
              "          action: 'append',\n",
              "          file: file.name,\n",
              "          data: base64,\n",
              "        },\n",
              "      };\n",
              "\n",
              "      let percentDone = fileData.byteLength === 0 ?\n",
              "          100 :\n",
              "          Math.round((position / fileData.byteLength) * 100);\n",
              "      percent.textContent = `${percentDone}% done`;\n",
              "\n",
              "    } while (position < fileData.byteLength);\n",
              "  }\n",
              "\n",
              "  // All done.\n",
              "  yield {\n",
              "    response: {\n",
              "      action: 'complete',\n",
              "    }\n",
              "  };\n",
              "}\n",
              "\n",
              "scope.google = scope.google || {};\n",
              "scope.google.colab = scope.google.colab || {};\n",
              "scope.google.colab._files = {\n",
              "  _uploadFiles,\n",
              "  _uploadFilesContinue,\n",
              "};\n",
              "})(self);\n",
              "</script> "
            ]
          },
          "metadata": {}
        },
        {
          "output_type": "stream",
          "name": "stdout",
          "text": [
            "Saving Apple.PNG to Apple.PNG\n"
          ]
        }
      ],
      "source": [
        "from google.colab import files\n",
        "import cv2\n",
        "from google.colab.patches import cv2_imshow\n",
        "\n",
        "uploaded = files.upload()\n"
      ]
    },
    {
      "cell_type": "code",
      "execution_count": null,
      "metadata": {
        "id": "bta-Fy8ottl5"
      },
      "outputs": [],
      "source": [
        "for fn in uploaded.keys():\n",
        "  path=fn\n"
      ]
    },
    {
      "cell_type": "code",
      "execution_count": null,
      "metadata": {
        "id": "gcQo-UASfkHR"
      },
      "outputs": [],
      "source": [
        "image=cv2.imread(path)\n",
        "image_rgb = cv2.cvtColor(image, cv2.COLOR_BGR2RGB)\n",
        "mp_pose = mp.solutions.pose\n",
        "pose = mp_pose.Pose(min_detection_confidence=0.5, min_tracking_confidence=0.5)\n",
        "results = pose.process(image_rgb)"
      ]
    },
    {
      "cell_type": "code",
      "execution_count": null,
      "metadata": {
        "colab": {
          "base_uri": "https://localhost:8080/"
        },
        "id": "QpuxVBDtCHzN",
        "outputId": "d28947b3-80ab-4735-e781-17813810ad4c"
      },
      "outputs": [
        {
          "output_type": "stream",
          "name": "stdout",
          "text": [
            "Requirement already satisfied: mediapipe in /usr/local/lib/python3.10/dist-packages (0.10.18)\n",
            "Requirement already satisfied: opencv-python in /usr/local/lib/python3.10/dist-packages (4.10.0.84)\n",
            "Requirement already satisfied: numpy in /usr/local/lib/python3.10/dist-packages (1.26.4)\n",
            "Requirement already satisfied: absl-py in /usr/local/lib/python3.10/dist-packages (from mediapipe) (1.4.0)\n",
            "Requirement already satisfied: attrs>=19.1.0 in /usr/local/lib/python3.10/dist-packages (from mediapipe) (24.2.0)\n",
            "Requirement already satisfied: flatbuffers>=2.0 in /usr/local/lib/python3.10/dist-packages (from mediapipe) (24.3.25)\n",
            "Requirement already satisfied: jax in /usr/local/lib/python3.10/dist-packages (from mediapipe) (0.4.33)\n",
            "Requirement already satisfied: jaxlib in /usr/local/lib/python3.10/dist-packages (from mediapipe) (0.4.33)\n",
            "Requirement already satisfied: matplotlib in /usr/local/lib/python3.10/dist-packages (from mediapipe) (3.8.0)\n",
            "Requirement already satisfied: opencv-contrib-python in /usr/local/lib/python3.10/dist-packages (from mediapipe) (4.10.0.84)\n",
            "Requirement already satisfied: protobuf<5,>=4.25.3 in /usr/local/lib/python3.10/dist-packages (from mediapipe) (4.25.5)\n",
            "Requirement already satisfied: sounddevice>=0.4.4 in /usr/local/lib/python3.10/dist-packages (from mediapipe) (0.5.1)\n",
            "Requirement already satisfied: sentencepiece in /usr/local/lib/python3.10/dist-packages (from mediapipe) (0.2.0)\n",
            "Requirement already satisfied: CFFI>=1.0 in /usr/local/lib/python3.10/dist-packages (from sounddevice>=0.4.4->mediapipe) (1.17.1)\n",
            "Requirement already satisfied: ml-dtypes>=0.2.0 in /usr/local/lib/python3.10/dist-packages (from jax->mediapipe) (0.4.1)\n",
            "Requirement already satisfied: opt-einsum in /usr/local/lib/python3.10/dist-packages (from jax->mediapipe) (3.4.0)\n",
            "Requirement already satisfied: scipy>=1.10 in /usr/local/lib/python3.10/dist-packages (from jax->mediapipe) (1.13.1)\n",
            "Requirement already satisfied: contourpy>=1.0.1 in /usr/local/lib/python3.10/dist-packages (from matplotlib->mediapipe) (1.3.1)\n",
            "Requirement already satisfied: cycler>=0.10 in /usr/local/lib/python3.10/dist-packages (from matplotlib->mediapipe) (0.12.1)\n",
            "Requirement already satisfied: fonttools>=4.22.0 in /usr/local/lib/python3.10/dist-packages (from matplotlib->mediapipe) (4.55.0)\n",
            "Requirement already satisfied: kiwisolver>=1.0.1 in /usr/local/lib/python3.10/dist-packages (from matplotlib->mediapipe) (1.4.7)\n",
            "Requirement already satisfied: packaging>=20.0 in /usr/local/lib/python3.10/dist-packages (from matplotlib->mediapipe) (24.2)\n",
            "Requirement already satisfied: pillow>=6.2.0 in /usr/local/lib/python3.10/dist-packages (from matplotlib->mediapipe) (11.0.0)\n",
            "Requirement already satisfied: pyparsing>=2.3.1 in /usr/local/lib/python3.10/dist-packages (from matplotlib->mediapipe) (3.2.0)\n",
            "Requirement already satisfied: python-dateutil>=2.7 in /usr/local/lib/python3.10/dist-packages (from matplotlib->mediapipe) (2.8.2)\n",
            "Requirement already satisfied: pycparser in /usr/local/lib/python3.10/dist-packages (from CFFI>=1.0->sounddevice>=0.4.4->mediapipe) (2.22)\n",
            "Requirement already satisfied: six>=1.5 in /usr/local/lib/python3.10/dist-packages (from python-dateutil>=2.7->matplotlib->mediapipe) (1.16.0)\n"
          ]
        }
      ],
      "source": [
        "!pip install mediapipe opencv-python numpy"
      ]
    },
    {
      "cell_type": "code",
      "execution_count": null,
      "metadata": {
        "colab": {
          "base_uri": "https://localhost:8080/"
        },
        "id": "dG3bCTwC1nXz",
        "outputId": "b61458c3-d191-4085-bdc5-3bb0e3cc71af"
      },
      "outputs": [
        {
          "output_type": "stream",
          "name": "stdout",
          "text": [
            "Kibbe Body Type: Flamboyant Natural\n"
          ]
        }
      ],
      "source": [
        "def kibbe_body_type_analysis(image_path):\n",
        "    \"\"\"Analyzes an image and determines the Kibbe body type using detailed logic.\"\"\"\n",
        "    mp_pose = mp.solutions.pose\n",
        "    pose = mp_pose.Pose(min_detection_confidence=0.5, min_tracking_confidence=0.5)\n",
        "    image = cv2.imread(image_path)\n",
        "    image_rgb = cv2.cvtColor(image, cv2.COLOR_BGR2RGB)\n",
        "    results = pose.process(image_rgb)\n",
        "    landmarks = results.pose_landmarks.landmark\n",
        "    image = cv2.imread(path)\n",
        "    image_rgb = cv2.cvtColor(image, cv2.COLOR_BGR2RGB)\n",
        "    results = pose.process(image_rgb)\n",
        "\n",
        "    # --- Body Measurements ---\n",
        "    shoulder_width = np.linalg.norm(np.array([landmarks[mp_pose.PoseLandmark.LEFT_SHOULDER.value].x,\n",
        "                                               landmarks[mp_pose.PoseLandmark.LEFT_SHOULDER.value].y]) -\n",
        "                                     np.array([landmarks[mp_pose.PoseLandmark.RIGHT_SHOULDER.value].x,\n",
        "                                               landmarks[mp_pose.PoseLandmark.RIGHT_SHOULDER.value].y]))\n",
        "\n",
        "    hip_width = np.linalg.norm(np.array([landmarks[mp_pose.PoseLandmark.LEFT_HIP.value].x,\n",
        "                                          landmarks[mp_pose.PoseLandmark.LEFT_HIP.value].y]) -\n",
        "                                np.array([landmarks[mp_pose.PoseLandmark.RIGHT_HIP.value].x,\n",
        "                                          landmarks[mp_pose.PoseLandmark.RIGHT_HIP.value].y]))\n",
        "\n",
        "    vertical_line = np.linalg.norm(np.array([landmarks[mp_pose.PoseLandmark.NOSE.value].x,\n",
        "                                              landmarks[mp_pose.PoseLandmark.NOSE.value].y]) -  np.array([landmarks[mp_pose.PoseLandmark.LEFT_ANKLE.value].x,\n",
        "                                              landmarks[mp_pose.PoseLandmark.LEFT_ANKLE.value].y]))\n",
        "     # Use LEFT_SIDE instead of LEFT_RIBCAGE\n",
        "    left_waist_x = (landmarks[mp_pose.PoseLandmark.LEFT_HIP.value].x + landmarks[mp_pose.PoseLandmark.LEFT_SHOULDER.value].x) / 2\n",
        "    left_waist_y = (landmarks[mp_pose.PoseLandmark.LEFT_HIP.value].y + landmarks[mp_pose.PoseLandmark.LEFT_SHOULDER.value].y) / 2\n",
        "    right_waist_x = (landmarks[mp_pose.PoseLandmark.RIGHT_HIP.value].x + landmarks[mp_pose.PoseLandmark.RIGHT_SHOULDER.value].x) / 2\n",
        "    right_waist_y = (landmarks[mp_pose.PoseLandmark.RIGHT_HIP.value].y + landmarks[mp_pose.PoseLandmark.RIGHT_SHOULDER.value].y) / 2\n",
        "\n",
        "    waist_width = np.linalg.norm(np.array([left_waist_x, left_waist_y]) -\n",
        "                                  np.array([right_waist_x, right_waist_y]))\n",
        "\n",
        "\n",
        "    # 1. Vertical Line:\n",
        "    if vertical_line > shoulder_width and vertical_line > hip_width:\n",
        "        # Dramatic, Natural, Flamboyant Natural (Yang-dominant) are likely\n",
        "        if shoulder_width > hip_width:  # More Yang (sharpness)\n",
        "            # --- Condition to differentiate Dramatic and Flamboyant Natural ---\n",
        "            # if the person appears very elongated and has a straighter, less defined waist -> Flamboyant Natural\n",
        "            # if the person has more sharpness and angularity, and a more defined waist -> Dramatic\n",
        "            if (vertical_line / shoulder_width) > 1.2 and (waist_width / hip_width) > 0.8: #  Elongation and straighter waist\n",
        "                kibbe_type = \"Flamboyant Natural\"\n",
        "            else:\n",
        "                kibbe_type = \"Dramatic\"\n",
        "            # --- End of condition ---\n",
        "        elif hip_width > shoulder_width:  # More Yin (curve) but elongated\n",
        "            kibbe_type = \"Soft Dramatic\"\n",
        "        else:  # Balanced but elongated\n",
        "            kibbe_type = \"Natural\"\n",
        "\n",
        "    # 2. Balanced or Moderate Vertical:\n",
        "    else:\n",
        "        if shoulder_width > hip_width:  # Yang dominant, moderate vertical\n",
        "            kibbe_type = \"Dramatic Classic\" # Sharpness with balance\n",
        "        elif hip_width > shoulder_width:  # Yin dominant, moderate vertical\n",
        "            # --- Condition to differentiate Romantic and Theatrical Romantic ---\n",
        "            # Romantic: More pronounced curves, softer flesh, and a more delicate bone structure.\n",
        "            # Theatrical Romantic: Combination of curves and sharpness, slightly elongated limbs, and a more defined waist.\n",
        "            if (hip_width / shoulder_width) > 1.2 and (vertical_line / hip_width) > 1.1: # Pronounced curves and slight elongation\n",
        "                kibbe_type = \"Theatrical Romantic\"\n",
        "            else:\n",
        "                kibbe_type = \"Romantic\" # Curve with balance\n",
        "        else:  # Balanced shoulder and hip, moderate vertical\n",
        "            # Classic, Soft Classic, Gamine, or Flamboyant Gamine are possibilities\n",
        "            if vertical_line < shoulder_width and vertical_line < hip_width and shoulder_width == hip_width:  # Small and compact frame, no elongation, balance\n",
        "              kibbe_type = \"Gamine\"\n",
        "\n",
        "            if vertical_line < shoulder_width and vertical_line < hip_width and shoulder_width > hip_width: # Small and compact frame, no elongation, with wider shoulders\n",
        "                kibbe_type = \"Flamboyant Gamine\"\n",
        "\n",
        "            if vertical_line < shoulder_width and vertical_line < hip_width and shoulder_width < hip_width and (hip_width - shoulder_width) < 0.15*hip_width: # Moderate vertical with slight curve and very slight elongation, still compact frame\n",
        "                kibbe_type = \"Soft Classic\"\n",
        "            # a. Assume moderate flesh and bone structure for now (can be refined)\n",
        "            kibbe_type = \"Classic\" # Starting point\n",
        "\n",
        "            # b. Consider if the user appears to have:\n",
        "            #  - Elongated limbs or a generally \"long\" look -> Lean towards Dramatic Classic or Natural\n",
        "            #  - Delicate bone structure, soft flesh -> Lean towards Romantic or Soft Classic\n",
        "            #  - Sharp, angular features, or a petite frame -> Lean towards Gamine or Flamboyant Gamine\n",
        "\n",
        "            # User input or more image features could refine this further\n",
        "\n",
        "    return kibbe_type\n",
        "\n",
        "# Example usage:\n",
        "image_path = path  # Replace with your image path\n",
        "kibbe_type = kibbe_body_type_analysis(image_path)\n",
        "print(\"Kibbe Body Type:\", kibbe_type)"
      ]
    },
    {
      "cell_type": "code",
      "execution_count": null,
      "metadata": {
        "colab": {
          "base_uri": "https://localhost:8080/"
        },
        "id": "ltAnHfUt1WKo",
        "outputId": "ba3f571c-72cf-474e-9190-caaf444c30ef"
      },
      "outputs": [
        {
          "output_type": "stream",
          "name": "stdout",
          "text": [
            "Kibbe Body Type: Flamboyant Natural\n",
            "Common Body Shape: Inverted Triangle or Rectangle\n"
          ]
        }
      ],
      "source": [
        "def kibbe_to_common_body_shape(kibbe_type):\n",
        "    \"\"\"Maps a Kibbe body type to a common body shape category.\"\"\"\n",
        "\n",
        "    kibbe_mapping = {\n",
        "        \"Dramatic\": \"Rectangle or Inverted Triangle\",  # Typically straight and angular\n",
        "        \"Soft Dramatic\": \"Hourglass or Inverted Triangle\",  # Curve with elongation\n",
        "        \"Flamboyant Natural\": \"Inverted Triangle or Rectangle\", # Elongated with wider shoulders\n",
        "        \"Natural\": \"Rectangle\",  # Straight and balanced\n",
        "        \"Dramatic Classic\": \"Rectangle or Inverted Triangle\",  # Balance with slight sharpness\n",
        "        \"Romantic\": \"Pear or Hourglass\",  # Curvy with defined waist\n",
        "        \"Theatrical Romantic\": \"Hourglass or Pear\",  # Curve with some sharpness\n",
        "        \"Classic\": \"Rectangle or Hourglass\",  # Balanced, can lean either way\n",
        "        \"Soft Classic\": \"Hourglass or Pear\",  # Soft curves with balance\n",
        "        \"Gamine\": \"Rectangle or Apple\", # Compact, can have a straighter waist\n",
        "        \"Flamboyant Gamine\": \"Inverted Triangle or Rectangle\" # Compact, wider shoulders\n",
        "    }\n",
        "\n",
        "    # Get the common body shape from the mapping:\n",
        "    common_shape = kibbe_mapping.get(kibbe_type, \"Undefined\")\n",
        "\n",
        "    return common_shape\n",
        "\n",
        "# Example usage\n",
        "\n",
        "kibbe_type = kibbe_body_type_analysis(image_path)\n",
        "common_shape= kibbe_to_common_body_shape(kibbe_type)\n",
        "print(\"Kibbe Body Type:\", kibbe_type)\n",
        "print(\"Common Body Shape:\", common_shape)"
      ]
    },
    {
      "cell_type": "markdown",
      "metadata": {
        "id": "Idbw4-skCTn4"
      },
      "source": [
        "**Contour Analysis**-\n",
        "*   \tOverall body silhouette, aspect ratios\n",
        "*   Accuracy\tLow\n",
        "*   Detail\tBasic body shapes (rectangle, pear, etc.\n",
        "*   Complexity\tSimple to implement\n",
        "\n",
        "**Landmark-Based Analysis**\n",
        "\n",
        "*   Body landmark positions and ratios\n",
        "*   Accuracy\tModerate\n",
        "*   Detail\tMore detailed body shapes\n",
        "*   More complex than contour-based\n",
        "\n",
        "\n",
        "**Kibbe Body Type System**\n",
        "\n",
        "*   Bone structure, flesh, facial features, Yin/Yang balance\n",
        "*   Accuracy\tHigh\n",
        "*   13 distinct body types with nuances\n",
        "*   Complex, requires understanding of Kibbe principles\n",
        "\n",
        "Subjective, depends on individual interpretation\n",
        "\n"
      ]
    },
    {
      "cell_type": "code",
      "execution_count": null,
      "metadata": {
        "colab": {
          "base_uri": "https://localhost:8080/",
          "height": 826
        },
        "id": "cu2bXJ2Myk0N",
        "outputId": "208a0f87-ddd3-456c-a5bd-8862f398ed64"
      },
      "outputs": [
        {
          "output_type": "stream",
          "name": "stdout",
          "text": [
            "Requirement already satisfied: mediapipe in /usr/local/lib/python3.10/dist-packages (0.10.18)\n",
            "Requirement already satisfied: opencv-python in /usr/local/lib/python3.10/dist-packages (4.10.0.84)\n",
            "Requirement already satisfied: numpy in /usr/local/lib/python3.10/dist-packages (1.26.4)\n",
            "Requirement already satisfied: absl-py in /usr/local/lib/python3.10/dist-packages (from mediapipe) (1.4.0)\n",
            "Requirement already satisfied: attrs>=19.1.0 in /usr/local/lib/python3.10/dist-packages (from mediapipe) (24.2.0)\n",
            "Requirement already satisfied: flatbuffers>=2.0 in /usr/local/lib/python3.10/dist-packages (from mediapipe) (24.3.25)\n",
            "Requirement already satisfied: jax in /usr/local/lib/python3.10/dist-packages (from mediapipe) (0.4.33)\n",
            "Requirement already satisfied: jaxlib in /usr/local/lib/python3.10/dist-packages (from mediapipe) (0.4.33)\n",
            "Requirement already satisfied: matplotlib in /usr/local/lib/python3.10/dist-packages (from mediapipe) (3.8.0)\n",
            "Requirement already satisfied: opencv-contrib-python in /usr/local/lib/python3.10/dist-packages (from mediapipe) (4.10.0.84)\n",
            "Requirement already satisfied: protobuf<5,>=4.25.3 in /usr/local/lib/python3.10/dist-packages (from mediapipe) (4.25.5)\n",
            "Requirement already satisfied: sounddevice>=0.4.4 in /usr/local/lib/python3.10/dist-packages (from mediapipe) (0.5.1)\n",
            "Requirement already satisfied: sentencepiece in /usr/local/lib/python3.10/dist-packages (from mediapipe) (0.2.0)\n",
            "Requirement already satisfied: CFFI>=1.0 in /usr/local/lib/python3.10/dist-packages (from sounddevice>=0.4.4->mediapipe) (1.17.1)\n",
            "Requirement already satisfied: ml-dtypes>=0.2.0 in /usr/local/lib/python3.10/dist-packages (from jax->mediapipe) (0.4.1)\n",
            "Requirement already satisfied: opt-einsum in /usr/local/lib/python3.10/dist-packages (from jax->mediapipe) (3.4.0)\n",
            "Requirement already satisfied: scipy>=1.10 in /usr/local/lib/python3.10/dist-packages (from jax->mediapipe) (1.13.1)\n",
            "Requirement already satisfied: contourpy>=1.0.1 in /usr/local/lib/python3.10/dist-packages (from matplotlib->mediapipe) (1.3.1)\n",
            "Requirement already satisfied: cycler>=0.10 in /usr/local/lib/python3.10/dist-packages (from matplotlib->mediapipe) (0.12.1)\n",
            "Requirement already satisfied: fonttools>=4.22.0 in /usr/local/lib/python3.10/dist-packages (from matplotlib->mediapipe) (4.55.0)\n",
            "Requirement already satisfied: kiwisolver>=1.0.1 in /usr/local/lib/python3.10/dist-packages (from matplotlib->mediapipe) (1.4.7)\n",
            "Requirement already satisfied: packaging>=20.0 in /usr/local/lib/python3.10/dist-packages (from matplotlib->mediapipe) (24.2)\n",
            "Requirement already satisfied: pillow>=6.2.0 in /usr/local/lib/python3.10/dist-packages (from matplotlib->mediapipe) (11.0.0)\n",
            "Requirement already satisfied: pyparsing>=2.3.1 in /usr/local/lib/python3.10/dist-packages (from matplotlib->mediapipe) (3.2.0)\n",
            "Requirement already satisfied: python-dateutil>=2.7 in /usr/local/lib/python3.10/dist-packages (from matplotlib->mediapipe) (2.8.2)\n",
            "Requirement already satisfied: pycparser in /usr/local/lib/python3.10/dist-packages (from CFFI>=1.0->sounddevice>=0.4.4->mediapipe) (2.22)\n",
            "Requirement already satisfied: six>=1.5 in /usr/local/lib/python3.10/dist-packages (from python-dateutil>=2.7->matplotlib->mediapipe) (1.16.0)\n"
          ]
        },
        {
          "output_type": "display_data",
          "data": {
            "text/plain": [
              "<PIL.Image.Image image mode=RGB size=168x340>"
            ],
            "image/png": "[encoded data removed]",
            "image/jpeg": "[encoded data removed]"
          },
          "metadata": {}
        }
      ],
      "source": [
        "!pip install mediapipe opencv-python numpy\n",
        "\n",
        "import cv2\n",
        "import mediapipe as mp\n",
        "import numpy as np\n",
        "\n",
        "def segment_human_body(image_path):\n",
        "    \"\"\"Segments the human body from the background using MediaPipe Selfie Segmentation.\"\"\"\n",
        "    mp_selfie_segmentation = mp.solutions.selfie_segmentation\n",
        "    with mp_selfie_segmentation.SelfieSegmentation(model_selection=1) as selfie_segmentation:\n",
        "        image = cv2.imread(image_path)\n",
        "        image_rgb = cv2.cvtColor(image, cv2.COLOR_BGR2RGB)\n",
        "        results = selfie_segmentation.process(image_rgb)\n",
        "\n",
        "        # Get the segmentation mask\n",
        "        condition = np.stack((results.segmentation_mask,) * 3, axis=-1) > 0.1\n",
        "        fg_image = np.zeros(image.shape, dtype=np.uint8)\n",
        "        fg_image[:] = (255, 255, 255)  # White background for the segmented person\n",
        "\n",
        "        # Apply the mask to the original image\n",
        "        output_image = np.where(condition, image, fg_image)\n",
        "\n",
        "        return output_image\n",
        "\n",
        "# Example usage:\n",
        "image_path = path  # Replace with your image path\n",
        "segmented_image = segment_human_body(image_path)\n",
        "\n",
        "# Display the segmented image\n",
        "from google.colab.patches import cv2_imshow\n",
        "cv2_imshow(segmented_image)"
      ]
    },
    {
      "cell_type": "code",
      "execution_count": null,
      "metadata": {
        "id": "NQLdRWXhztJ9"
      },
      "outputs": [],
      "source": [
        "def improve_image_quality(image):\n",
        "    \"\"\"Improves image quality using resizing and sharpening.\"\"\"\n",
        "    # Resize to a larger size\n",
        "    scale_percent = 200  # Percent of original size\n",
        "    width = int(image.shape[1] * scale_percent / 100)\n",
        "    height = int(image.shape[0] * scale_percent / 100)\n",
        "    dim = (width, height)\n",
        "    resized = cv2.resize(image, dim, interpolation=cv2.INTER_AREA)\n",
        "\n",
        "    # Sharpen the image\n",
        "    kernel = np.array([[-1, -1, -1], [-1, 9, -1], [-1, -1, -1]])\n",
        "    sharpened = cv2.filter2D(resized, -1, kernel)\n",
        "\n",
        "    return sharpened\n"
      ]
    },
    {
      "cell_type": "code",
      "execution_count": null,
      "metadata": {
        "colab": {
          "base_uri": "https://localhost:8080/",
          "height": 357
        },
        "id": "87xiZZ-OzJxv",
        "outputId": "db94efe3-02bd-44ef-b370-b0c57f0c8b10"
      },
      "outputs": [
        {
          "output_type": "display_data",
          "data": {
            "text/plain": [
              "<PIL.Image.Image image mode=RGB size=168x340>"
            ],
            "image/png": "[encoded data removed]",
            "image/jpeg": "[encoded data removed]"
          },
          "metadata": {}
        }
      ],
      "source": [
        "image_path = path  # Replace with your image path\n",
        "original_image = cv2.imread(image_path)\n",
        "enhanced_image = improve_image_quality(original_image)\n",
        "\n",
        "segmented_image = segment_human_body(image_path)  # Use original image for segmentation\n",
        "# Analyze the segmented image\n",
        "kibbe_type = kibbe_body_type_analysis(image_path)\n",
        "\n",
        "# Display the segmented image with Kibbe type\n",
        "from google.colab.patches import cv2_imshow\n",
        "cv2.putText(segmented_image, f\"Kibbe Type: {kibbe_type}\", (10, 30), cv2.FONT_HERSHEY_SIMPLEX, 1, (0, 0, 255), 2)  # Add text to the image\n",
        "cv2_imshow(segmented_image)"
      ]
    },
    {
      "cell_type": "markdown",
      "metadata": {
        "id": "SCydUlOW3C6m"
      },
      "source": [
        "#**Cloth Recommendation System**"
      ]
    },
    {
      "cell_type": "code",
      "execution_count": null,
      "metadata": {
        "colab": {
          "base_uri": "https://localhost:8080/"
        },
        "id": "fKOHy-Ad3NK5",
        "outputId": "9815e8fd-a1d0-4e41-bdea-23568f0ffab6"
      },
      "outputs": [
        {
          "output_type": "stream",
          "name": "stdout",
          "text": [
            "Requirement already satisfied: mediapipe in /usr/local/lib/python3.10/dist-packages (0.10.18)\n",
            "Requirement already satisfied: opencv-python in /usr/local/lib/python3.10/dist-packages (4.10.0.84)\n",
            "Requirement already satisfied: numpy in /usr/local/lib/python3.10/dist-packages (1.26.4)\n",
            "Requirement already satisfied: absl-py in /usr/local/lib/python3.10/dist-packages (from mediapipe) (1.4.0)\n",
            "Requirement already satisfied: attrs>=19.1.0 in /usr/local/lib/python3.10/dist-packages (from mediapipe) (24.2.0)\n",
            "Requirement already satisfied: flatbuffers>=2.0 in /usr/local/lib/python3.10/dist-packages (from mediapipe) (24.3.25)\n",
            "Requirement already satisfied: jax in /usr/local/lib/python3.10/dist-packages (from mediapipe) (0.4.33)\n",
            "Requirement already satisfied: jaxlib in /usr/local/lib/python3.10/dist-packages (from mediapipe) (0.4.33)\n",
            "Requirement already satisfied: matplotlib in /usr/local/lib/python3.10/dist-packages (from mediapipe) (3.8.0)\n",
            "Requirement already satisfied: opencv-contrib-python in /usr/local/lib/python3.10/dist-packages (from mediapipe) (4.10.0.84)\n",
            "Requirement already satisfied: protobuf<5,>=4.25.3 in /usr/local/lib/python3.10/dist-packages (from mediapipe) (4.25.5)\n",
            "Requirement already satisfied: sounddevice>=0.4.4 in /usr/local/lib/python3.10/dist-packages (from mediapipe) (0.5.1)\n",
            "Requirement already satisfied: sentencepiece in /usr/local/lib/python3.10/dist-packages (from mediapipe) (0.2.0)\n",
            "Requirement already satisfied: CFFI>=1.0 in /usr/local/lib/python3.10/dist-packages (from sounddevice>=0.4.4->mediapipe) (1.17.1)\n",
            "Requirement already satisfied: ml-dtypes>=0.2.0 in /usr/local/lib/python3.10/dist-packages (from jax->mediapipe) (0.4.1)\n",
            "Requirement already satisfied: opt-einsum in /usr/local/lib/python3.10/dist-packages (from jax->mediapipe) (3.4.0)\n",
            "Requirement already satisfied: scipy>=1.10 in /usr/local/lib/python3.10/dist-packages (from jax->mediapipe) (1.13.1)\n",
            "Requirement already satisfied: contourpy>=1.0.1 in /usr/local/lib/python3.10/dist-packages (from matplotlib->mediapipe) (1.3.1)\n",
            "Requirement already satisfied: cycler>=0.10 in /usr/local/lib/python3.10/dist-packages (from matplotlib->mediapipe) (0.12.1)\n",
            "Requirement already satisfied: fonttools>=4.22.0 in /usr/local/lib/python3.10/dist-packages (from matplotlib->mediapipe) (4.55.0)\n",
            "Requirement already satisfied: kiwisolver>=1.0.1 in /usr/local/lib/python3.10/dist-packages (from matplotlib->mediapipe) (1.4.7)\n",
            "Requirement already satisfied: packaging>=20.0 in /usr/local/lib/python3.10/dist-packages (from matplotlib->mediapipe) (24.2)\n",
            "Requirement already satisfied: pillow>=6.2.0 in /usr/local/lib/python3.10/dist-packages (from matplotlib->mediapipe) (11.0.0)\n",
            "Requirement already satisfied: pyparsing>=2.3.1 in /usr/local/lib/python3.10/dist-packages (from matplotlib->mediapipe) (3.2.0)\n",
            "Requirement already satisfied: python-dateutil>=2.7 in /usr/local/lib/python3.10/dist-packages (from matplotlib->mediapipe) (2.8.2)\n",
            "Requirement already satisfied: pycparser in /usr/local/lib/python3.10/dist-packages (from CFFI>=1.0->sounddevice>=0.4.4->mediapipe) (2.22)\n",
            "Requirement already satisfied: six>=1.5 in /usr/local/lib/python3.10/dist-packages (from python-dateutil>=2.7->matplotlib->mediapipe) (1.16.0)\n",
            "Clothing Recommendations for Flamboyant Natural:\n",
            "Styles: ['Oversized and comfortable silhouettes', 'Natural fabrics', 'Bold patterns and textures', 'Layering']\n",
            "Items: ['Loose-fitting tops', 'Wide-leg pants', 'Statement outerwear', 'Comfortable shoes']\n"
          ]
        }
      ],
      "source": [
        "!pip install mediapipe opencv-python numpy\n",
        "\n",
        "import cv2\n",
        "import mediapipe as mp\n",
        "import numpy as np\n",
        "\n",
        "# ... (segment_human_body, kibbe_body_type_analysis, highlight_body_type functions remain the same) ...\n",
        "\n",
        "def recommend_clothes(kibbe_type):\n",
        "    \"\"\"Recommends clothing styles and items based on Kibbe type.\"\"\"\n",
        "    recommendations = {\n",
        "        \"Dramatic\": {\n",
        "            \"styles\": [\"Bold and geometric lines\", \"Sharp tailoring\", \"Monochromatic colors\", \"Long and lean silhouettes\"],\n",
        "            \"items\": [\"Tailored blazers\", \"Wide-leg trousers\", \"Long coats\", \"Statement jewelry\"]\n",
        "        },\n",
        "        \"Natural\": {\n",
        "            \"styles\": [\"Relaxed and comfortable fits\", \"Natural fabrics\", \"Earthy tones\", \"Layered looks\"],\n",
        "            \"items\": [\"Flowy dresses\", \"Loose-fitting tops\", \"Cardigans\", \"Denim jackets\"]\n",
        "        },\n",
        "        \"Romantic\": {\n",
        "            \"styles\": [\"Soft and flowing fabrics\", \"Fitted waistlines\", \"Floral prints\", \"Ruffles and lace\"],\n",
        "            \"items\": [\"Wrap dresses\", \"Fitted blouses\", \"A-line skirts\", \"Delicate jewelry\"]\n",
        "        },\n",
        "        \"Classic\": {\n",
        "            \"styles\": [\"Symmetrical and balanced silhouettes\", \"Timeless pieces\", \"Neutral colors\", \"Moderate details\"],\n",
        "            \"items\": [\"Sheath dresses\", \"Pencil skirts\", \"Button-down shirts\", \"Classic pumps\"]\n",
        "        },\n",
        "        \"Gamine\": {\n",
        "            \"styles\": [\"Playful and youthful looks\", \"Bold colors and prints\", \"Contrasting elements\", \"Short hemlines\"],\n",
        "            \"items\": [\"Mini skirts\", \"Cropped jackets\", \"T-shirts with graphic prints\", \"Colorful accessories\"]\n",
        "        },\n",
        "        \"Soft Dramatic\": {\n",
        "            \"styles\": [\"Flowing and draped fabrics\", \"Fitted waistlines\", \"Bold prints and colors\", \"Soft edges\"],\n",
        "            \"items\": [\"Wrap dresses\", \"Maxi skirts\", \"Statement jewelry\", \"Flowy blouses\"]\n",
        "        },\n",
        "        \"Flamboyant Natural\": {\n",
        "            \"styles\": [\"Oversized and comfortable silhouettes\", \"Natural fabrics\", \"Bold patterns and textures\", \"Layering\"],\n",
        "            \"items\": [\"Loose-fitting tops\", \"Wide-leg pants\", \"Statement outerwear\", \"Comfortable shoes\"]\n",
        "        },\n",
        "        \"Dramatic Classic\": {\n",
        "            \"styles\": [\"Tailored and structured pieces\", \"Classic silhouettes\", \"Neutral colors with pops of color\", \"Minimalist accessories\"],\n",
        "            \"items\": [\"Blazers\", \"Pencil skirts\", \"Sheath dresses\", \"Simple jewelry\"]\n",
        "        },\n",
        "        \"Theatrical Romantic\": {\n",
        "            \"styles\": [\"Fitted and feminine silhouettes\", \"Luxurious fabrics\", \"Bold colors and embellishments\", \"Dramatic details\"],\n",
        "            \"items\": [\"Bodycon dresses\", \"Statement jewelry\", \"High heels\", \"Lace and ruffles\"]\n",
        "        },\n",
        "        \"Soft Classic\": {\n",
        "            \"styles\": [\"Soft and flowing fabrics\", \"Subtle details\", \"Muted colors\", \"Classic silhouettes with a feminine touch\"],\n",
        "            \"items\": [\"Wrap dresses\", \"A-line skirts\", \"Cardigans\", \"Delicate jewelry\"]\n",
        "        },\n",
        "        \"Flamboyant Gamine\": {\n",
        "            \"styles\": [\"Bold and contrasting elements\", \"Geometric shapes\", \"Asymmetrical designs\", \"Mix of textures\"],\n",
        "            \"items\": [\"Color-blocked dresses\", \"Statement jackets\", \"Unique accessories\", \"Patterned tights\"]\n",
        "        },\n",
        "        # ... (Add recommendations for other Kibbe types) ...\n",
        "    }\n",
        "\n",
        "    if kibbe_type in recommendations:\n",
        "        return recommendations[kibbe_type]\n",
        "    else:\n",
        "        return {\"styles\": [\"Recommendations not yet available for this Kibbe type\"], \"items\": []}\n",
        "\n",
        "\n",
        "# Example usage:\n",
        "image_path =image  # Replace with your image path\n",
        "\n",
        "# ... (image enhancement, segmentation, analysis, and highlighting remain the same) ...\n",
        "\n",
        "# Get clothing recommendations\n",
        "clothing_recommendations = recommend_clothes(kibbe_type)\n",
        "\n",
        "# Print recommendations\n",
        "print(\"Clothing Recommendations for\", kibbe_type + \":\")\n",
        "print(\"Styles:\", clothing_recommendations[\"styles\"])\n",
        "print(\"Items:\", clothing_recommendations[\"items\"])"
      ]
    }
  ],
  "metadata": {
    "colab": {
      "provenance": []
    },
    "kernelspec": {
      "display_name": "Python 3",
      "name": "python3"
    },
    "language_info": {
      "name": "python"
    }
  },
  "nbformat": 4,
  "nbformat_minor": 0
}