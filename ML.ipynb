{
  "nbformat": 4,
  "nbformat_minor": 0,
  "metadata": {
    "colab": {
      "provenance": []
    },
    "kernelspec": {
      "name": "python3",
      "display_name": "Python 3"
    },
    "language_info": {
      "name": "python"
    }
  },
  "cells": [
    {
      "cell_type": "code",
      "execution_count": null,
      "metadata": {
        "colab": {
          "base_uri": "https://localhost:8080/"
        },
        "id": "UuHathZH6X4e",
        "outputId": "d8446094-baf1-4e7a-c8d3-ceb414a94c88"
      },
      "outputs": [
        {
          "output_type": "stream",
          "name": "stdout",
          "text": [
            "Largest velement is 9\n",
            "Row wise max elements [3 6 9]\n",
            "Smallest element is 1\n",
            "Row wise min elements [1 4 7]\n",
            "sum of arrays 45\n",
            "Cumulative sum along each column [[ 1  3  6]\n",
            " [ 4  9 15]\n",
            " [ 7 15 24]]\n"
          ]
        }
      ],
      "source": [
        "import numpy as np\n",
        "arr=np.array(([1,2,3],[4,5,6],[7,8,9]))\n",
        "#max element in an array\n",
        "print(\"Largest velement is\",arr.max())\n",
        "print(\"Row wise max elements\",arr.max(axis=1))\n",
        "#min element in an array\n",
        "print(\"Smallest element is\",arr.min())\n",
        "print(\"Row wise min elements\",arr.min(axis=1))\n",
        "#sum of array elements\n",
        "print('sum of arrays',arr.sum())\n",
        "#cumulative sum along each coloumn\n",
        "print(\"Cumulative sum along each column\",arr.cumsum(axis=1) )\n"
      ]
    },
    {
      "cell_type": "code",
      "source": [],
      "metadata": {
        "id": "MqPNhcWn70q2"
      },
      "execution_count": null,
      "outputs": []
    },
    {
      "source": [
        "import numpy as np\n",
        "\n",
        "# Create a numpy array\n",
        "array = np.array([1, 2, 3, 4, 5])\n",
        "\n",
        "# Use `arange` to create an array with a specific range\n",
        "array = np.arange(10)\n",
        "\n",
        "# Use `linspace` to create an array with a specific number of elements and range\n",
        "array = np.linspace(1, 10, 5)\n",
        "\n",
        "# Use `zeros` to create an array filled with zeros\n",
        "array = np.zeros(5)\n",
        "\n",
        "# Use `ones` to create an array filled with ones\n",
        "array = np.ones(5)\n",
        "\n",
        "# Use `random.randint` to create an array of random integers\n",
        "array = np.random.randint(1, 100, size=(5))\n",
        "\n",
        "# Use `reshape` to change the shape of an array\n",
        "array = array.reshape(5, 1)\n",
        "\n",
        "# Use `transpose` to transpose an array\n",
        "array = array.transpose()\n",
        "\n",
        "# Use `sum` to calculate the sum of all elements in an array\n",
        "total_sum = np.sum(array)\n",
        "\n",
        "# Use `mean` to calculate the mean of all elements in an array\n",
        "mean_value = np.mean(array)\n",
        "\n",
        "# Use `std` to calculate the standard deviation of all elements in an array\n",
        "std_value = np.std(array)\n",
        "\n",
        "# Use `where` to find the indices of elements that meet a specific condition\n",
        "indices = np.where(array > 5)\n",
        "\n",
        "# Use `sort` to sort an array\n",
        "sorted_array = np.sort(array)"
      ],
      "cell_type": "code",
      "metadata": {
        "id": "qQJWTMmO71s1"
      },
      "execution_count": null,
      "outputs": []
    },
    {
      "cell_type": "code",
      "source": [
        "#calculator\n",
        "def cal(a,b,op):\n",
        "        if(op==\"+\"):\n",
        "          return a+b\n",
        "        elif(op==\"-\"):\n",
        "          return a-b\n",
        "        elif(op==\"*\"):\n",
        "          return a*b\n",
        "        elif(op==\"/\"):\n",
        "          return a/b\n",
        "a=int(input(\"enter 1st element\"))\n",
        "b=int(input(\"enter 2nd element\"))\n",
        "op=input(\"Enter operator\\n 1.+\\n 2.-\\n3.*\\n4./ \\n\")\n",
        "print(cal(a,b,op))"
      ],
      "metadata": {
        "colab": {
          "base_uri": "https://localhost:8080/"
        },
        "id": "rt5JJfyv-Avn",
        "outputId": "de0eaee1-b58e-4ad7-b625-9ff136fdf59c"
      },
      "execution_count": null,
      "outputs": [
        {
          "output_type": "stream",
          "name": "stdout",
          "text": [
            "enter 1st element6\n",
            "enter 2nd element5\n",
            "Enter operator 1.+\n",
            " 2.-\n",
            "3.*\n",
            "4./ \n",
            "*\n",
            "30\n"
          ]
        }
      ]
    },
    {
      "cell_type": "code",
      "source": [
        "#matplotlib\n",
        "from matplotlib import pyplot as plt\n",
        "plt.plot([1,2,3],[4,5,6])\n",
        "#set title\n",
        "plt.title('INFO')\n",
        "#label axis\n",
        "plt.xlkabel"
      ],
      "metadata": {
        "id": "B3sGdHgC-QUO"
      },
      "execution_count": null,
      "outputs": []
    },
    {
      "cell_type": "code",
      "source": [
        "import pandas as pd\n",
        "data={'apples':[3,2,0,1],'oanes':[0,3,7,2]}\n",
        "df=pd.DataFrame(data)\n",
        "df=pd.DataFrame(data,index=['ahmed','Ali','Ram','Sheen'])\n",
        "print(df)"
      ],
      "metadata": {
        "colab": {
          "base_uri": "https://localhost:8080/"
        },
        "id": "DhNeSrdlCEhl",
        "outputId": "aea8afdf-ccb0-4265-fc6c-638332f68593"
      },
      "execution_count": null,
      "outputs": [
        {
          "output_type": "stream",
          "name": "stdout",
          "text": [
            "       apples  oanes\n",
            "ahmed       3      0\n",
            "Ali         2      3\n",
            "Ram         0      7\n",
            "Sheen       1      2\n"
          ]
        }
      ]
    }
  ]
}